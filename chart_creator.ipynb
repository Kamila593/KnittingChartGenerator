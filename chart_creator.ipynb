{
 "cells": [
  {
   "cell_type": "code",
   "execution_count": 1,
   "metadata": {},
   "outputs": [],
   "source": [
    "from PIL import Image, ImageDraw, ImageFont"
   ]
  },
  {
   "cell_type": "markdown",
   "metadata": {},
   "source": [
    "## **Script for writing stitches in inputs**"
   ]
  },
  {
   "cell_type": "code",
   "execution_count": 78,
   "metadata": {},
   "outputs": [
    {
     "ename": "ValueError",
     "evalue": "invalid literal for int() with base 10: ''",
     "output_type": "error",
     "traceback": [
      "\u001b[1;31m---------------------------------------------------------------------------\u001b[0m",
      "\u001b[1;31mValueError\u001b[0m                                Traceback (most recent call last)",
      "Cell \u001b[1;32mIn[78], line 5\u001b[0m\n\u001b[0;32m      1\u001b[0m \u001b[38;5;66;03m### NIE ZAKTUALIZOWAŁAM KODU ###\u001b[39;00m\n\u001b[0;32m      3\u001b[0m Pattern \u001b[38;5;241m=\u001b[39m {}\n\u001b[1;32m----> 5\u001b[0m stitches_per_row \u001b[38;5;241m=\u001b[39m \u001b[38;5;28;43mint\u001b[39;49m\u001b[43m(\u001b[49m\u001b[38;5;28;43minput\u001b[39;49m\u001b[43m(\u001b[49m\u001b[38;5;124;43m\"\u001b[39;49m\u001b[38;5;124;43mEnter the number of stitches per row (including edges!): \u001b[39;49m\u001b[38;5;124;43m\"\u001b[39;49m\u001b[43m)\u001b[49m\u001b[43m)\u001b[49m\n\u001b[0;32m      6\u001b[0m num_of_rows \u001b[38;5;241m=\u001b[39m \u001b[38;5;28mint\u001b[39m(\u001b[38;5;28minput\u001b[39m(\u001b[38;5;124m\"\u001b[39m\u001b[38;5;124mEnter the number of rows: \u001b[39m\u001b[38;5;124m\"\u001b[39m))\n\u001b[0;32m      7\u001b[0m chart_name \u001b[38;5;241m=\u001b[39m \u001b[38;5;28mstr\u001b[39m(\u001b[38;5;28minput\u001b[39m(\u001b[38;5;124m'\u001b[39m\u001b[38;5;124mEnter the name of your chart: \u001b[39m\u001b[38;5;124m'\u001b[39m))\n",
      "\u001b[1;31mValueError\u001b[0m: invalid literal for int() with base 10: ''"
     ]
    }
   ],
   "source": [
    "### NIE ZAKTUALIZOWAŁAM KODU ###\n",
    "\n",
    "Pattern = {}\n",
    "\n",
    "stitches_per_row = int(input(\"Enter the number of stitches per row (including edges!): \"))\n",
    "num_of_rows = int(input(\"Enter the number of rows: \"))\n",
    "chart_name = str(input('Enter the name of your chart: '))\n",
    "\n",
    "for i in range(1, num_of_rows + 1):\n",
    "    key = f'Row_{i}'\n",
    "    tuple_info_string = input(f\"{key}: \")\n",
    "    stitches_info = tuple_info_string.split(', ')\n",
    "\n",
    "    stitches = []\n",
    "    for stitch_info in stitches_info:\n",
    "        # last_letter_index = next((index for index, char in enumerate(stitch_info) if not char.isalpha()), len(stitch_info))\n",
    "        # stitch_type = stitch_info[:last_letter_index].lower()\n",
    "        # stitch_count = int(stitch_info[last_letter_index:])\n",
    "        # stitches.extend([stitch_type] * stitch_count)\n",
    "        for idx, char in enumerate(stitch_info):\n",
    "            if not char.isalpha():\n",
    "                break\n",
    "        else:\n",
    "            idx = len(stitch_info)\n",
    "\n",
    "        # Extract the stitch type and count, append stitches to the list\n",
    "        stitch_type = stitch_info[:idx].lower()\n",
    "        stitch_count = int(stitch_info[idx:]) if idx < len(stitch_info) else 1\n",
    "        stitches.extend([stitch_type] * stitch_count)\n",
    "\n",
    "    Pattern[key] = stitches\n",
    "\n",
    "print(Pattern)\n"
   ]
  },
  {
   "cell_type": "markdown",
   "metadata": {},
   "source": [
    "## **Script for reading stitches from a file**"
   ]
  },
  {
   "cell_type": "code",
   "execution_count": 19,
   "metadata": {},
   "outputs": [
    {
     "name": "stdout",
     "output_type": "stream",
     "text": [
      "{'Row_1': ['e', 'k', 'k', 'k', 'k', 'k', 'front_kk', 'k', 'k', 'k', 'k', 'k', 'k', 'k', 'k', 'k', 'k', 'front_kk', 'k', 'k', 'k', 'k', 'k', 'k', 'k', 'k', 'k', 'k', 'front_kk', 'k', 'k', 'k', 'k', 'k', 'e'], 'Row_2': ['e', 'p', 'p', 'p', 'p', 'front_kk', 'back_kk', 'p', 'p', 'p', 'p', 'p', 'p', 'p', 'p', 'front_kk', 'back_kk', 'p', 'p', 'p', 'p', 'p', 'p', 'p', 'p', 'front_kk', 'back_kk', 'p', 'p', 'p', 'p', 'e'], 'Row_3': ['e', 'k', 'k', 'k', 'front_kk', 'k', 'k', 'back_kk', 'k', 'k', 'k', 'k', 'k', 'k', 'front_kk', 'k', 'k', 'back_kk', 'k', 'k', 'k', 'k', 'k', 'k', 'front_kk', 'k', 'k', 'back_kk', 'k', 'k', 'k', 'e'], 'Row_4': ['e', 'p', 'p', 'front_kk', 'p', 'p', 'p', 'p', 'back_kk', 'p', 'p', 'p', 'p', 'front_kk', 'p', 'p', 'p', 'p', 'back_kk', 'p', 'p', 'p', 'p', 'front_kk', 'p', 'p', 'p', 'p', 'back_kk', 'p', 'p', 'e'], 'Row_5': ['e', 'k', 'front_kk', 'k', 'k', 'k', 'k', 'k', 'k', 'back_kk', 'k', 'k', 'k', 'back_kk', 'k', 'k', 'k', 'k', 'front_kk', 'k', 'k', 'k', 'front_kk', 'k', 'k', 'k', 'k', 'k', 'k', 'back_kk', 'k', 'e'], 'Row_6': ['e', 'front_kk', 'p', 'p', 'p', 'p', 'p', 'p', 'p', 'p', 'back_kk', 'p', 'p', 'p', 'back_kk', 'p', 'p', 'front_kk', 'p', 'p', 'p', 'front_kk', 'p', 'p', 'p', 'p', 'p', 'p', 'p', 'p', 'back_kk', 'e'], 'Row_7': ['e', 'back_kk', 'k', 'k', 'k', 'k', 'k', 'k', 'k', 'k', 'front_kk', 'k', 'k', 'k', 'k', 'back_kk', 'front_kk', 'k', 'k', 'k', 'k', 'back_kk', 'k', 'k', 'k', 'k', 'k', 'k', 'k', 'k', 'back_kk', 'e'], 'Row_8': ['e', 'p', 'back_kk', 'p', 'p', 'p', 'p', 'p', 'p', 'front_kk', 'p', 'p', 'p', 'p', 'p', 'p', 'back_kk', 'p', 'p', 'p', 'p', 'p', 'p', 'back_kk', 'p', 'p', 'p', 'p', 'p', 'p', 'front_kk', 'p', 'e'], 'Row_9': ['e', 'k', 'k', 'back_kk', 'k', 'k', 'k', 'k', 'front_kk', 'k', 'k', 'k', 'k', 'k', 'k', 'front_kk', 'back_kk', 'k', 'k', 'k', 'k', 'k', 'k', 'back_kk', 'k', 'k', 'k', 'k', 'front_kk', 'k', 'k', 'e'], 'Row_10': ['e', 'p', 'p', 'p', 'back_kk', 'p', 'p', 'front_kk', 'p', 'p', 'p', 'p', 'p', 'p', 'front_kk', 'p', 'p', 'back_kk', 'p', 'p', 'p', 'p', 'p', 'p', 'back_kk', 'p', 'p', 'front_kk', 'p', 'p', 'p', 'e'], 'Row_11': ['e', 'k', 'k', 'k', 'k', 'back_kk', 'front_kk', 'k', 'k', 'k', 'k', 'k', 'k', 'front_kk', 'k', 'k', 'k', 'k', 'back_kk', 'k', 'k', 'k', 'k', 'k', 'k', 'back_kk', 'front_kk', 'k', 'k', 'k', 'k', 'e'], 'Row_12': ['e', 'p', 'p', 'p', 'p', 'p', 'back_kk', 'p', 'p', 'p', 'p', 'p', 'p', 'front_kk', 'p', 'p', 'p', 'p', 'p', 'p', 'back_kk', 'p', 'p', 'p', 'p', 'p', 'p', 'back_kk', 'p', 'p', 'p', 'p', 'p', 'e'], 'Row_13': ['e', 'k', 'k', 'k', 'k', 'front_kk', 'back_kk', 'k', 'k', 'k', 'k', 'front_kk', 'k', 'k', 'k', 'k', 'k', 'k', 'k', 'k', 'back_kk', 'k', 'k', 'k', 'k', 'front_kk', 'back_kk', 'k', 'k', 'k', 'k', 'e'], 'Row_14': ['e', 'p', 'p', 'p', 'front_kk', 'p', 'p', 'back_kk', 'p', 'p', 'front_kk', 'p', 'p', 'p', 'p', 'p', 'p', 'p', 'p', 'p', 'p', 'back_kk', 'p', 'p', 'front_kk', 'p', 'p', 'back_kk', 'p', 'p', 'p', 'e'], 'Row_15': ['e', 'k', 'k', 'back_kk', 'k', 'k', 'k', 'k', 'front_kk', 'k', 'front_kk', 'k', 'k', 'k', 'k', 'k', 'k', 'k', 'k', 'k', 'k', 'back_kk', 'k', 'back_kk', 'k', 'k', 'k', 'k', 'front_kk', 'k', 'k', 'e'], 'Row_16': ['e', 'p', 'p', 'back_kk', 'p', 'p', 'p', 'p', 'front_kk', 'p', 'p', 'back_kk', 'p', 'p', 'p', 'p', 'p', 'p', 'p', 'p', 'front_kk', 'p', 'p', 'back_kk', 'p', 'p', 'p', 'p', 'front_kk', 'p', 'p', 'e'], 'Row_17': ['e', 'k', 'k', 'k', 'back_kk', 'k', 'k', 'front_kk', 'k', 'k', 'k', 'k', 'back_kk', 'k', 'k', 'k', 'k', 'k', 'k', 'front_kk', 'k', 'k', 'k', 'k', 'back_kk', 'k', 'k', 'front_kk', 'k', 'k', 'k', 'e'], 'Row_18': ['e', 'p', 'p', 'p', 'p', 'back_pp', 'front_pp', 'p', 'p', 'p', 'p', 'p', 'p', 'back_pp', 'p', 'p', 'p', 'p', 'front_pp', 'p', 'p', 'p', 'p', 'p', 'p', 'back_pp', 'front_pp', 'p', 'p', 'p', 'p', 'e'], 'Row_19': ['e', 'k', 'k', 'k', 'k', 'k', 'back_kk', 'k', 'k', 'k', 'k', 'k', 'k', 'k', 'k', 'back_kk', 'k', 'k', 'front_kk', 'k', 'k', 'k', 'k', 'k', 'k', 'k', 'k', 'back_kk', 'k', 'k', 'k', 'k', 'k', 'e'], 'Row_20': ['e', 'p', 'p', 'p', 'p', 'front_pp', 'back_pp', 'p', 'p', 'p', 'p', 'p', 'p', 'p', 'p', 'back_pp', 'front_pp', 'p', 'p', 'p', 'p', 'p', 'p', 'p', 'p', 'front_pp', 'back_pp', 'p', 'p', 'p', 'p', 'e'], 'Row_21': ['e', 'k', 'k', 'k', 'front_kk', 'k', 'k', 'back_kk', 'k', 'k', 'k', 'k', 'k', 'k', 'k', 'k', 'back_kk', 'k', 'k', 'k', 'k', 'k', 'k', 'k', 'k', 'front_kk', 'k', 'k', 'back_kk', 'k', 'k', 'k', 'e'], 'Row_22': ['e', 'p', 'p', 'front_pp', 'p', 'p', 'p', 'p', 'back_pp', 'p', 'p', 'p', 'p', 'p', 'p', 'front_pp', 'back_pp', 'p', 'p', 'p', 'p', 'p', 'p', 'front_pp', 'p', 'p', 'p', 'p', 'back_pp', 'p', 'p', 'e'], 'Row_23': ['e', 'k', 'front_kk', 'k', 'k', 'k', 'k', 'k', 'k', 'back_kk', 'k', 'k', 'k', 'k', 'front_kk', 'k', 'k', 'back_kk', 'k', 'k', 'k', 'k', 'front_kk', 'p', 'p', 'p', 'p', 'p', 'p', 'back_kk', 'k', 'e'], 'Row_24': ['e', 'front_pp', 'p', 'p', 'p', 'p', 'p', 'p', 'p', 'p', 'back_pp', 'p', 'p', 'front_pp', 'p', 'p', 'p', 'p', 'back_pp', 'p', 'p', 'front_pp', 'p', 'p', 'p', 'p', 'p', 'p', 'p', 'p', 'back_pp', 'e'], 'Row_25': ['e', 'front_pp', 'p', 'p', 'p', 'p', 'p', 'p', 'p', 'p', 'back_pp', 'p', 'p', 'front_pp', 'p', 'p', 'p', 'p', 'back_pp', 'p', 'p', 'front_pp', 'p', 'p', 'p', 'p', 'p', 'p', 'p', 'p', 'back_pp', 'e'], 'Row_26': ['e', 'k', 'front_kk', 'k', 'k', 'k', 'k', 'k', 'k', 'back_kk', 'k', 'k', 'k', 'k', 'front_kk', 'k', 'k', 'back_kk', 'k', 'k', 'k', 'k', 'front_kk', 'p', 'p', 'p', 'p', 'p', 'p', 'back_kk', 'k', 'e'], 'Row_27': ['e', 'p', 'p', 'front_pp', 'p', 'p', 'p', 'p', 'back_pp', 'p', 'p', 'p', 'p', 'p', 'p', 'front_pp', 'back_pp', 'p', 'p', 'p', 'p', 'p', 'p', 'front_pp', 'p', 'p', 'p', 'p', 'back_pp', 'p', 'p', 'e'], 'Row_28': ['e', 'k', 'k', 'k', 'front_kk', 'k', 'k', 'back_kk', 'k', 'k', 'k', 'k', 'k', 'k', 'k', 'k', 'back_kk', 'k', 'k', 'k', 'k', 'k', 'k', 'k', 'k', 'front_kk', 'k', 'k', 'back_kk', 'k', 'k', 'k', 'e'], 'Row_29': ['e', 'p', 'p', 'p', 'p', 'front_pp', 'back_pp', 'p', 'p', 'p', 'p', 'p', 'p', 'p', 'p', 'back_pp', 'front_pp', 'p', 'p', 'p', 'p', 'p', 'p', 'p', 'p', 'front_pp', 'back_pp', 'p', 'p', 'p', 'p', 'e'], 'Row_30': ['e', 'k', 'k', 'k', 'k', 'k', 'back_kk', 'k', 'k', 'k', 'k', 'k', 'k', 'k', 'k', 'back_kk', 'k', 'k', 'front_kk', 'k', 'k', 'k', 'k', 'k', 'k', 'k', 'k', 'back_kk', 'k', 'k', 'k', 'k', 'k', 'e'], 'Row_31': ['e', 'p', 'p', 'p', 'p', 'back_pp', 'front_pp', 'p', 'p', 'p', 'p', 'p', 'p', 'back_pp', 'p', 'p', 'p', 'p', 'front_pp', 'p', 'p', 'p', 'p', 'p', 'p', 'back_pp', 'front_pp', 'p', 'p', 'p', 'p', 'e'], 'Row_32': ['e', 'k', 'k', 'k', 'back_kk', 'k', 'k', 'front_kk', 'k', 'k', 'k', 'k', 'back_kk', 'k', 'k', 'k', 'k', 'k', 'k', 'front_kk', 'k', 'k', 'k', 'k', 'back_kk', 'k', 'k', 'front_kk', 'k', 'k', 'k', 'e'], 'Row_33': ['e', 'p', 'p', 'back_kk', 'p', 'p', 'p', 'p', 'front_kk', 'p', 'p', 'back_kk', 'p', 'p', 'p', 'p', 'p', 'p', 'p', 'p', 'front_kk', 'p', 'p', 'back_kk', 'p', 'p', 'p', 'p', 'front_kk', 'p', 'p', 'e'], 'Row_34': ['e', 'k', 'k', 'back_kk', 'k', 'k', 'k', 'k', 'front_kk', 'k', 'front_kk', 'k', 'k', 'k', 'k', 'k', 'k', 'k', 'k', 'k', 'k', 'back_kk', 'k', 'back_kk', 'k', 'k', 'k', 'k', 'front_kk', 'k', 'k', 'e'], 'Row_35': ['e', 'p', 'p', 'p', 'front_kk', 'p', 'p', 'back_kk', 'p', 'p', 'front_kk', 'p', 'p', 'p', 'p', 'p', 'p', 'p', 'p', 'p', 'p', 'back_kk', 'p', 'p', 'front_kk', 'p', 'p', 'back_kk', 'p', 'p', 'p', 'e'], 'Row_36': ['e', 'k', 'k', 'k', 'k', 'front_kk', 'back_kk', 'k', 'k', 'k', 'k', 'front_kk', 'k', 'k', 'k', 'k', 'k', 'k', 'k', 'k', 'back_kk', 'k', 'k', 'k', 'k', 'front_kk', 'back_kk', 'k', 'k', 'k', 'k', 'e'], 'Row_37': ['e', 'p', 'p', 'p', 'p', 'p', 'back_kk', 'p', 'p', 'p', 'p', 'p', 'p', 'front_kk', 'p', 'p', 'p', 'p', 'p', 'p', 'back_kk', 'p', 'p', 'p', 'p', 'p', 'p', 'back_kk', 'p', 'p', 'p', 'p', 'p', 'e'], 'Row_38': ['e', 'k', 'k', 'k', 'k', 'back_kk', 'front_kk', 'k', 'k', 'k', 'k', 'k', 'k', 'front_kk', 'k', 'k', 'k', 'k', 'back_kk', 'k', 'k', 'k', 'k', 'k', 'k', 'back_kk', 'front_kk', 'k', 'k', 'k', 'k', 'e'], 'Row_39': ['e', 'p', 'p', 'p', 'back_kk', 'p', 'p', 'front_kk', 'p', 'p', 'p', 'p', 'p', 'p', 'front_kk', 'p', 'p', 'back_kk', 'p', 'p', 'p', 'p', 'p', 'p', 'back_kk', 'p', 'p', 'front_kk', 'p', 'p', 'p', 'e'], 'Row_40': ['e', 'k', 'k', 'back_kk', 'k', 'k', 'k', 'k', 'front_kk', 'k', 'k', 'k', 'k', 'k', 'k', 'front_kk', 'back_kk', 'k', 'k', 'k', 'k', 'k', 'k', 'back_kk', 'k', 'k', 'k', 'k', 'front_kk', 'k', 'k', 'e'], 'Row_41': ['e', 'p', 'back_kk', 'p', 'p', 'p', 'p', 'p', 'p', 'front_kk', 'p', 'p', 'p', 'p', 'p', 'p', 'back_kk', 'p', 'p', 'p', 'p', 'p', 'p', 'back_kk', 'p', 'p', 'p', 'p', 'p', 'p', 'front_kk', 'p', 'e'], 'Row_42': ['e', 'back_kk', 'k', 'k', 'k', 'k', 'k', 'k', 'k', 'k', 'front_kk', 'k', 'k', 'k', 'k', 'back_kk', 'front_kk', 'k', 'k', 'k', 'k', 'back_kk', 'k', 'k', 'k', 'k', 'k', 'k', 'k', 'k', 'back_kk', 'e'], 'Row_43': ['e', 'front_kk', 'p', 'p', 'p', 'p', 'p', 'p', 'p', 'p', 'back_kk', 'p', 'p', 'p', 'back_kk', 'p', 'p', 'front_kk', 'p', 'p', 'p', 'front_kk', 'p', 'p', 'p', 'p', 'p', 'p', 'p', 'p', 'back_kk', 'e'], 'Row_44': ['e', 'k', 'front_kk', 'k', 'k', 'k', 'k', 'k', 'k', 'back_kk', 'k', 'k', 'k', 'back_kk', 'k', 'k', 'k', 'k', 'front_kk', 'k', 'k', 'k', 'front_kk', 'k', 'k', 'k', 'k', 'k', 'k', 'back_kk', 'k', 'e'], 'Row_45': ['e', 'p', 'p', 'front_kk', 'p', 'p', 'p', 'p', 'back_kk', 'p', 'p', 'p', 'p', 'front_kk', 'p', 'p', 'p', 'p', 'back_kk', 'p', 'p', 'p', 'p', 'front_kk', 'p', 'p', 'p', 'p', 'back_kk', 'p', 'p', 'e'], 'Row_46': ['e', 'k', 'k', 'k', 'front_kk', 'k', 'k', 'back_kk', 'k', 'k', 'k', 'k', 'k', 'k', 'front_kk', 'k', 'k', 'back_kk', 'k', 'k', 'k', 'k', 'k', 'k', 'front_kk', 'k', 'k', 'back_kk', 'k', 'k', 'k', 'e'], 'Row_47': ['e', 'p', 'p', 'p', 'p', 'front_kk', 'back_kk', 'p', 'p', 'p', 'p', 'p', 'p', 'p', 'p', 'front_kk', 'back_kk', 'p', 'p', 'p', 'p', 'p', 'p', 'p', 'p', 'front_kk', 'back_kk', 'p', 'p', 'p', 'p', 'e'], 'Row_48': ['e', 'k', 'k', 'k', 'k', 'k', 'front_kk', 'k', 'k', 'k', 'k', 'k', 'k', 'k', 'k', 'k', 'k', 'front_kk', 'k', 'k', 'k', 'k', 'k', 'k', 'k', 'k', 'k', 'k', 'front_kk', 'k', 'k', 'k', 'k', 'k', 'e']}\n"
     ]
    }
   ],
   "source": [
    "Pattern = {}\n",
    "\n",
    "# stitches_per_row = int(input(\"Enter the number of stitches per row (including edges!): \"))\n",
    "# num_of_rows = int(input(\"Enter the number of rows: \"))\n",
    "# chart_name = str(input('Enter the name of your chart: '))\n",
    "stitches_per_row = 38\n",
    "num_of_rows = 48\n",
    "chart_name = 'Small_big_diamonds'\n",
    "file_path = 'pattern.txt'\n",
    "\n",
    "\n",
    "def extract_stitch_info(stitch_info):\n",
    "    stitch_count = ''\n",
    "    for char in reversed(stitch_info):\n",
    "        if char.isdigit():\n",
    "            stitch_count = char + stitch_count\n",
    "        else:\n",
    "            break\n",
    "    stitch_type = stitch_info[:len(stitch_info) - len(stitch_count)]\n",
    "    return stitch_type, int(stitch_count) if stitch_count else 1\n",
    "\n",
    "\n",
    "with open(file_path, 'r') as file:\n",
    "    for i, line in enumerate(file, start=1):\n",
    "        key = f'Row_{i}'\n",
    "        stitches_info = line.strip().split(', ')\n",
    "\n",
    "        stitches = []\n",
    "        for stitch_info in stitches_info:\n",
    "            stitch_type, stitch_count = extract_stitch_info(stitch_info)\n",
    "        \n",
    "            stitches.extend([stitch_type] * stitch_count)\n",
    "\n",
    "        Pattern[key] = stitches\n",
    "\n",
    "print(Pattern)\n"
   ]
  },
  {
   "cell_type": "markdown",
   "metadata": {},
   "source": [
    "## **Stitches library and symbols**"
   ]
  },
  {
   "cell_type": "code",
   "execution_count": 2,
   "metadata": {},
   "outputs": [],
   "source": [
    "directory_path = 'C:\\\\Users\\\\kwojd\\\\AppData\\\\Roaming\\\\jupyter\\\\runtime\\\\My_projects\\\\Others\\\\Knitting\\\\Stitches\\\\'\n",
    "\n",
    "edge = Image.open(directory_path + 'edge.png')\n",
    "purl = Image.open(directory_path + 'purl.png')\n",
    "knit = Image.open(directory_path + 'knit.png')\n",
    "k2tog = Image.open(directory_path + 'k2tog.png')\n",
    "p2tog = Image.open(directory_path + 'p2tog.png')\n",
    "\n",
    "RC = Image.open(directory_path + 'RC.png')\n",
    "LC = Image.open(directory_path + 'LC.png')\n",
    "RT = Image.open(directory_path + 'RT.png')\n",
    "LT = Image.open(directory_path + 'LT.png')\n",
    "RT_purl = Image.open(directory_path + 'RT_purl.png')\n",
    "LT_purl = Image.open(directory_path + 'LT_purl.png')\n",
    "ssk = Image.open(directory_path + 'ssk.png')\n",
    "ssp = Image.open(directory_path + 'ssp.png')\n",
    "\n",
    "front_pp = Image.open(directory_path + 'front_pp.png')\n",
    "front_pk = Image.open(directory_path + 'front_pk.png')\n",
    "front_kp = Image.open(directory_path + 'front_kp.png')\n",
    "front_kk = Image.open(directory_path + 'front_kk.png')\n",
    "back_pp = Image.open(directory_path + 'back_pp.png')\n",
    "back_pk = Image.open(directory_path + 'back_pk.png')\n",
    "back_kp = Image.open(directory_path + 'back_kp.png')\n",
    "back_kk = Image.open(directory_path + 'back_kk.png')\n",
    "\n",
    "\n",
    "# Stitch library\n",
    "stitch_library = {\n",
    "    'p': purl,\n",
    "    'k': knit,\n",
    "    'e': edge,\n",
    "    'k2tog': k2tog,\n",
    "    'p2tog': p2tog,\n",
    "    'ssk': ssk,\n",
    "    'ssp': ssp,\n",
    "    'RC': RC,\n",
    "    'LC': LC,\n",
    "    'RT': RT,\n",
    "    'LT': LT,\n",
    "    'RT_purl': RT_purl,\n",
    "    'LT_purl': LT_purl,\n",
    "    'front_pp': front_pp,\n",
    "    'front_pk': front_pk,\n",
    "    'front_kp': front_kp,\n",
    "    'front_kk': front_kk,\n",
    "    'back_pp': back_pp,\n",
    "    'back_pk': back_pk,\n",
    "    'back_kp': back_kp,\n",
    "    'back_kk': back_kk\n",
    "}\n",
    "\n",
    "\n",
    "arrow = Image.open(directory_path + 'arrow.png')\n",
    "arrow = arrow.resize((int(arrow.size[0]*0.1), int(arrow.size[1]*0.1)))\n",
    "upper_arrow = arrow.rotate(90, expand=True)\n",
    "\n",
    "right_arrow = Image.open(directory_path + 'arrow_horizontal.png')\n",
    "right_arrow = right_arrow.resize((int(right_arrow.size[0]*0.075), int(right_arrow.size[1]*0.075)))\n",
    "left_arrow = right_arrow.rotate(180, expand=True)\n",
    "\n",
    "width0, height0 = edge.size\n",
    "stitch = width0\n",
    "stitch_double = RC.size[0]\n",
    "\n"
   ]
  },
  {
   "cell_type": "markdown",
   "metadata": {},
   "source": [
    "## **Creating the chart**"
   ]
  },
  {
   "cell_type": "code",
   "execution_count": 18,
   "metadata": {},
   "outputs": [],
   "source": [
    "background = Image.new(\"RGB\", ((stitches_per_row + 4)*stitch, (num_of_rows + 2)*stitch), (255, 255, 255))\n",
    "width, height = background.size\n",
    "\n",
    "x_filling = stitch + 0.93*stitch*(stitches_per_row - 1)\n",
    "x_margin = round((width - x_filling)/2)\n",
    "y_filling = stitch + 0.93*stitch*(num_of_rows - 1)\n",
    "y_margin = round((height - y_filling)/2)\n",
    "\n",
    "draw = ImageDraw.Draw(background)\n",
    "\n",
    "# Iterate through each row in the pattern dictionary\n",
    "for row_index, row_key in enumerate(Pattern):\n",
    "    row = Pattern[row_key]\n",
    "    \n",
    "    # Iterate through each stitch in the row\n",
    "    double_stitch_count = 0\n",
    "    for stitch_index, stitch_type in enumerate(row):\n",
    "        stitch_image = stitch_library[stitch_type]  \n",
    "             \n",
    "        # Adjust x_position based on stitch width\n",
    "        if stitch_type in {'RC', 'LC', 'RT', 'LT', 'RT_purl', 'LT_purl', 'front_kk', 'front_kp', 'front_pk', 'front_pp', 'back_kk', 'back_kp', 'back_pk', 'back_pp'}:\n",
    "            double_stitch_count += 1\n",
    "            x_position = x_margin + ((stitches_per_row - stitch_index - 1 - double_stitch_count) * round(0.93*stitch))\n",
    "        else:\n",
    "            x_position = x_margin + (stitches_per_row - stitch_index - 1 - double_stitch_count) * (round(0.93*stitch))\n",
    "        \n",
    "        y_position = y_margin + (num_of_rows - row_index - 1) * round(0.93*stitch)\n",
    "\n",
    "        background.paste(stitch_image, (x_position, y_position))\n",
    "        \n",
    "        font_type = ImageFont.truetype(\"times.ttf\", 60)\n",
    "        if row_index % 2 == 0:\n",
    "            l_text_position = (int(x_margin + x_filling) + 115, 20 + y_margin + (num_of_rows - row_index - 1) * round(0.93*stitch))\n",
    "            draw.text(l_text_position, f\"{row_index + 1}\", fill=(0, 0, 0), font=font_type)\n",
    "            r_arrow_position = (int(x_margin + x_filling) + 30, y_margin + int(stitch/2) - int(left_arrow.size[1]/2) + (num_of_rows - row_index - 1) * round(0.93*stitch))\n",
    "            background.paste(left_arrow, r_arrow_position)\n",
    "        elif row_index % 2 == 1:\n",
    "            l_arrow_position = (x_margin - 110, y_margin + int(stitch/2) - int(left_arrow.size[1]/2) + (num_of_rows - row_index - 1) * round(0.93*stitch))\n",
    "            background.paste(right_arrow, l_arrow_position)\n",
    "    \n",
    "    for n_stitch in range(0, stitches_per_row - 2):\n",
    "        draw.text((25 + x_margin + stitch + (stitches_per_row - 2 - n_stitch - 1)*(int(0.93*stitch)), y_margin - 75), f\"{n_stitch + 1}\", fill=(0, 0, 0), font=ImageFont.truetype(\"times.ttf\", 45))\n",
    "        \n",
    "report = str(input('Do you want to put a report? (y/n) ' ))\n",
    "# report = 'n'\n",
    "if report == 'y':\n",
    "    upper_position = input('Where? Type numbers of first and last column (e.g. 3, 12) ')\n",
    "    # upper_position = '2, 6'\n",
    "    start_column, end_column = map(int, upper_position.split(', '))\n",
    "    upper_l_arrow_position_1 = (x_margin - int(upper_arrow.size[0]/2) - 4 + stitch + (stitches_per_row - start_column - 1) * round(0.93 * stitch), height - 100)\n",
    "    upper_l_arrow_position_2 = (x_margin - int(upper_arrow.size[0]/2) - 4 + stitch + (stitches_per_row - end_column - 1 - 1) * round(0.93 * stitch), height - 100)\n",
    "    # '- 4' comes from the grid's border\n",
    "    \n",
    "    # Calculate the positions for the vertical lines\n",
    "    line_start_position_1 = (x_margin - 3 + stitch + (stitches_per_row - start_column - 1) * round(0.93 * stitch), y_margin)\n",
    "    line_end_position_1 = (x_margin - 3 + stitch + (stitches_per_row - start_column - 1) * round(0.93 * stitch), y_margin + y_filling - 5)\n",
    "    line_start_position_2 = (x_margin - 3 + stitch + (stitches_per_row - end_column - 1 - 1) * round(0.93 * stitch), y_margin)\n",
    "    line_end_position_2 = (x_margin - 3 + stitch + (stitches_per_row - end_column - 1 - 1) * round(0.93 * stitch), y_margin + y_filling - 5)\n",
    "\n",
    "    # Draw two vertical lines on the background image\n",
    "    draw = ImageDraw.Draw(background)\n",
    "    draw.line([line_start_position_1, line_end_position_1], fill=(0, 0, 0), width=15)\n",
    "    draw.line([line_start_position_2, line_end_position_2], fill=(0, 0, 0), width=15)\n",
    "\n",
    "    background.paste(upper_arrow, upper_l_arrow_position_1)\n",
    "    background.paste(upper_arrow, upper_l_arrow_position_2)\n",
    "else:\n",
    "    pass\n",
    "        \n",
    "background.save(chart_name + '.png')\n",
    "background.show()"
   ]
  },
  {
   "cell_type": "markdown",
   "metadata": {},
   "source": [
    "## **Colouring the chart (inputs)** "
   ]
  },
  {
   "cell_type": "code",
   "execution_count": 88,
   "metadata": {},
   "outputs": [
    {
     "name": "stdout",
     "output_type": "stream",
     "text": [
      "0\n"
     ]
    }
   ],
   "source": [
    "img = Image.open('12_squares.png')  # Replace 'your_image.jpg' with the actual image file\n",
    "replacement_color = (205, 73, 207)     # Define the color to replace white (RGB values for #fec9ff)\n",
    "img = img.convert('RGB')    # Convert the image to RGB mode (if it's not already in RGB)\n",
    "width, height = img.size    # Get the width and height of the image\n",
    "\n",
    "for row_index in range(num_of_rows):\n",
    "    print(row_index)\n",
    "    color_ranges_input = input(f\"Enter color ranges for row {row_index + 1} (e.g., '1-5, 11-15'): \")\n",
    "    color_ranges = [range(int(start), int(end) + 1) for start, end in (pair.split('-') for pair in color_ranges_input.split(', '))]\n",
    "    for range_i in color_ranges:\n",
    "        for x in range(x_margin + stitch + round(0.93*stitch)*(range_i[0]-1), x_margin + stitch + round(0.93*stitch)*(range_i[-1])):\n",
    "            for y in range(int(y_margin + (num_of_rows - row_index - 1) * round(0.93*stitch)), int(y_margin + (num_of_rows - row_index) * round(0.93*stitch))):\n",
    "                r, g, b = img.getpixel((x, y))  # Get the RGB values of the current pixel \n",
    "                if r >= 200 and g >= 200 and b >= 200:\n",
    "                    img.putpixel((x, y), replacement_color)     # Set the pixel to the replacement color\n",
    "\n",
    "\n",
    "img.save('12_squares_light.png')  # Replace 'output_image.jpg' with the desired output file name\n"
   ]
  },
  {
   "cell_type": "markdown",
   "metadata": {},
   "source": [
    "## **Colouring the chart (text file)** "
   ]
  },
  {
   "cell_type": "markdown",
   "metadata": {},
   "source": [
    "##### **Light**"
   ]
  },
  {
   "cell_type": "code",
   "execution_count": 21,
   "metadata": {},
   "outputs": [
    {
     "name": "stdout",
     "output_type": "stream",
     "text": [
      "1\n",
      "2\n",
      "3\n",
      "4\n",
      "5\n",
      "6\n",
      "7\n",
      "8\n",
      "9\n",
      "10\n",
      "11\n",
      "12\n"
     ]
    }
   ],
   "source": [
    "from PIL import Image\n",
    "\n",
    "img = Image.open(chart_name + '.png')  # Replace 'your_image.jpg' with the actual image file\n",
    "replacement_color = (252, 160, 160)    # jasny czerwony\n",
    "# replacement_color = (252, 232, 204)    # jasny beż\n",
    "# replacement_color = (255, 183, 238)      # ciemny jasny róż\n",
    "# replacement_color = (255, 228, 244)    # jasny jasny róż\n",
    "\n",
    "img = img.convert('RGB')    # Convert the image to RGB mode (if it's not already in RGB)\n",
    "width, height = img.size    # Get the width and height of the image\n",
    "\n",
    "file_ranges = 'ranges.txt'\n",
    "\n",
    "with open(file_ranges, 'r') as file:\n",
    "    for row_index, line in enumerate(file, start=1):\n",
    "        print(row_index)\n",
    "        \n",
    "        if not line.strip():\n",
    "            continue\n",
    "        # x_margin + ((stitches_per_row - stitch_index - 1 - double_stitch_count) * round(0.93*stitch))\n",
    "        color_ranges = [range(int(start), int(end) + 1) for start, end in (pair.split('-') for pair in line.strip().split(', '))]\n",
    "        for range_i in color_ranges:\n",
    "            # for x in range(x_margin + stitch + round(0.93 * stitch) * (range_i[0] - 1), x_margin + stitch + round(0.93 * stitch) * (range_i[-1])):\n",
    "            for x in range((x_margin + stitch + round(0.93 * stitch) * (stitches_per_row - 2 - (range_i[-1]))), (x_margin + stitch + round(0.93 * stitch) * (stitches_per_row - 2 - (range_i[0] - 1)))):\n",
    "                for y in range(int(y_margin + (num_of_rows - row_index - 0) * round(0.93 * stitch)),\n",
    "                               int(y_margin + (num_of_rows - row_index + 1) * round(0.93 * stitch))):\n",
    "                    r, g, b = img.getpixel((x, y))  # Get the RGB values of the current pixel\n",
    "                    if r >= 200 and g >= 200 and b >= 200:\n",
    "                        img.putpixel((x, y), replacement_color)  # Set the pixel to the replacement color\n",
    "\n",
    "# Save the modified image\n",
    "img.save(chart_name + '_light' + '.png')  # Replace 'output_image.jpg' with the desired output file name\n"
   ]
  },
  {
   "cell_type": "markdown",
   "metadata": {},
   "source": [
    "##### **Colour** (+ dark)"
   ]
  },
  {
   "cell_type": "code",
   "execution_count": 22,
   "metadata": {},
   "outputs": [
    {
     "name": "stdout",
     "output_type": "stream",
     "text": [
      "1\n",
      "2\n",
      "3\n",
      "4\n",
      "5\n",
      "6\n",
      "7\n",
      "8\n",
      "9\n",
      "10\n",
      "11\n",
      "12\n"
     ]
    }
   ],
   "source": [
    "from PIL import Image\n",
    "\n",
    "img = Image.open(chart_name + '_light' + '.png')  # Replace 'your_image.jpg' with the actual image file\n",
    "replacement_color = (240, 70, 70)   # czerwony\n",
    "# replacement_color = (240, 52, 194)   # ciemny ciemny róż\n",
    "# replacement_color = (221, 193, 155)    # ciemny beż\n",
    "# replacement_color = (244, 182, 218)      # jasny ciemny róż\n",
    "\n",
    "img = img.convert('RGB')    # Convert the image to RGB mode (if it's not already in RGB)\n",
    "width, height = img.size    # Get the width and height of the image\n",
    "\n",
    "file_ranges = 'ranges.txt'\n",
    "\n",
    "with open(file_ranges, 'r') as file:\n",
    "    for row_index, line in enumerate(file, start=1):\n",
    "        print(row_index)\n",
    "        \n",
    "        if not line.strip():\n",
    "            continue\n",
    "        # x_margin + ((stitches_per_row - stitch_index - 1 - double_stitch_count) * round(0.93*stitch))\n",
    "        color_ranges = [range(int(start), int(end) + 1) for start, end in (pair.split('-') for pair in line.strip().split(', '))]\n",
    "        for range_i in color_ranges:\n",
    "            # for x in range(x_margin + stitch + round(0.93 * stitch) * (range_i[0] - 1), x_margin + stitch + round(0.93 * stitch) * (range_i[-1])):\n",
    "            for x in range((x_margin + stitch + round(0.93 * stitch) * (stitches_per_row - 2 - (range_i[-1]))), (x_margin + stitch + round(0.93 * stitch) * (stitches_per_row - 2 - (range_i[0] - 1)))):\n",
    "                for y in range(int(y_margin + (num_of_rows - row_index - 0) * round(0.93 * stitch)),\n",
    "                               int(y_margin + (num_of_rows - row_index + 1) * round(0.93 * stitch))):\n",
    "                    r, g, b = img.getpixel((x, y))  # Get the RGB values of the current pixel\n",
    "                    if r >= 200 and g >= 200 and b >= 200:\n",
    "                        img.putpixel((x, y), replacement_color)  # Set the pixel to the replacement color\n",
    "\n",
    "# Save the modified image\n",
    "img.save(chart_name + '_colour' + '.png')  # Replace 'output_image.jpg' with the desired output file name\n"
   ]
  }
 ],
 "metadata": {
  "kernelspec": {
   "display_name": "Python 3",
   "language": "python",
   "name": "python3"
  },
  "language_info": {
   "codemirror_mode": {
    "name": "ipython",
    "version": 3
   },
   "file_extension": ".py",
   "mimetype": "text/x-python",
   "name": "python",
   "nbconvert_exporter": "python",
   "pygments_lexer": "ipython3",
   "version": "3.9.13"
  }
 },
 "nbformat": 4,
 "nbformat_minor": 2
}
