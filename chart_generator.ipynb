{
 "cells": [
  {
   "cell_type": "code",
   "execution_count": 1,
   "metadata": {},
   "outputs": [],
   "source": [
    "from PIL import Image, ImageDraw, ImageFont"
   ]
  },
  {
   "cell_type": "markdown",
   "metadata": {},
   "source": [
    "## **Stitches library and symbols**"
   ]
  },
  {
   "cell_type": "code",
   "execution_count": 2,
   "metadata": {},
   "outputs": [],
   "source": [
    "directory_path = 'C:\\\\Users\\\\kwojd\\\\AppData\\\\Roaming\\\\jupyter\\\\runtime\\\\My_projects\\\\GitHub_projects\\\\KnittingChartGenerator\\\\Stitches\\\\'\n",
    "\n",
    "edge = Image.open(directory_path + 'edge.png')\n",
    "purl = Image.open(directory_path + 'purl.png')\n",
    "knit = Image.open(directory_path + 'knit.png')\n",
    "k2tog = Image.open(directory_path + 'k2tog.png')\n",
    "p2tog = Image.open(directory_path + 'p2tog.png')\n",
    "ssk = Image.open(directory_path + 'ssk.png')\n",
    "ssp = Image.open(directory_path + 'ssp.png')\n",
    "\n",
    "front_pp = Image.open(directory_path + 'front_pp.png')\n",
    "front_pk = Image.open(directory_path + 'front_pk.png')\n",
    "front_kp = Image.open(directory_path + 'front_kp.png')\n",
    "front_kk = Image.open(directory_path + 'front_kk.png')\n",
    "back_pp = Image.open(directory_path + 'back_pp.png')\n",
    "back_pk = Image.open(directory_path + 'back_pk.png')\n",
    "back_kp = Image.open(directory_path + 'back_kp.png')\n",
    "back_kk = Image.open(directory_path + 'back_kk.png')\n",
    "\n",
    "yo = Image.open(directory_path + 'yarnover.png')\n",
    "M1R = Image.open(directory_path + 'M1R.png')\n",
    "M1L = Image.open(directory_path + 'M1L.png')\n",
    "\n",
    "\n",
    "# Stitch library\n",
    "stitch_library = {\n",
    "    'p': purl,\n",
    "    'k': knit,\n",
    "    'e': edge,\n",
    "    'k2tog': k2tog,\n",
    "    'p2tog': p2tog,\n",
    "    'ssk': ssk,\n",
    "    'ssp': ssp,\n",
    "    'front_pp': front_pp,\n",
    "    'front_pk': front_pk,\n",
    "    'front_kp': front_kp,\n",
    "    'front_kk': front_kk,\n",
    "    'back_pp': back_pp,\n",
    "    'back_pk': back_pk,\n",
    "    'back_kp': back_kp,\n",
    "    'back_kk': back_kk,\n",
    "    'yo': yo,\n",
    "    'M1R': M1R,\n",
    "    'M1L': M1L\n",
    "}\n",
    "\n",
    "\n",
    "arrow = Image.open(directory_path + 'arrow.png')\n",
    "arrow = arrow.resize((int(arrow.size[0]*0.1), int(arrow.size[1]*0.1)))\n",
    "upper_arrow = arrow.rotate(90, expand=True)\n",
    "\n",
    "right_arrow = Image.open(directory_path + 'arrow_horizontal.png')\n",
    "right_arrow = right_arrow.resize((int(right_arrow.size[0]*0.075), int(right_arrow.size[1]*0.075)))\n",
    "left_arrow = right_arrow.rotate(180, expand=True)\n",
    "\n",
    "width0, height0 = edge.size\n",
    "stitch = width0\n",
    "stitch_double = front_pp.size[0]\n",
    "\n"
   ]
  },
  {
   "cell_type": "markdown",
   "metadata": {},
   "source": [
    "## **Script for reading stitches from a file**"
   ]
  },
  {
   "cell_type": "code",
   "execution_count": 30,
   "metadata": {},
   "outputs": [
    {
     "name": "stdout",
     "output_type": "stream",
     "text": [
      
     ]
    }
   ],
   "source": [
    "Pattern = {}\n",
    "\n",
    "stitches_per_row = int(input(\"Enter the number of stitches per row (including edges!): \"))\n",
    "num_of_rows = int(input(\"Enter the number of rows: \"))\n",
    "chart_name = str(input('Enter the name of your chart: '))\n",
    "file_path = 'pattern.txt'\n",
    "\n",
    "\n",
    "def extract_stitch_info(stitch_info):\n",
    "    stitch_count = ''\n",
    "    for char in reversed(stitch_info):\n",
    "        if char.isdigit():\n",
    "            stitch_count = char + stitch_count\n",
    "        else:\n",
    "            break\n",
    "    stitch_type = stitch_info[:len(stitch_info) - len(stitch_count)]\n",
    "    return stitch_type, int(stitch_count) if stitch_count else 1\n",
    "\n",
    "\n",
    "with open(file_path, 'r') as file:\n",
    "    for i, line in enumerate(file, start=1):\n",
    "        key = f'Row_{i}'\n",
    "        stitches_info = line.strip().split(', ')\n",
    "\n",
    "        stitches = []\n",
    "        for stitch_info in stitches_info:\n",
    "            stitch_type, stitch_count = extract_stitch_info(stitch_info)\n",
    "        \n",
    "            stitches.extend([stitch_type] * stitch_count)\n",
    "\n",
    "        Pattern[key] = stitches\n",
    "\n",
    "print(Pattern)\n"
   ]
  },
  {
   "cell_type": "markdown",
   "metadata": {},
   "source": [
    "## **Creating the chart**"
   ]
  },
  {
   "cell_type": "code",
   "execution_count": 31,
   "metadata": {},
   "outputs": [],
   "source": [
    "background = Image.new(\"RGB\", ((stitches_per_row + 4)*stitch, (num_of_rows + 2)*stitch), (255, 255, 255))\n",
    "width, height = background.size\n",
    "\n",
    "x_filling = stitch + 0.93*stitch*(stitches_per_row - 1)\n",
    "x_margin = round((width - x_filling)/2)\n",
    "y_filling = stitch + 0.93*stitch*(num_of_rows - 1)\n",
    "y_margin = round((height - y_filling)/2)\n",
    "\n",
    "draw = ImageDraw.Draw(background)\n",
    "\n",
    "# Iterate through each row in the pattern dictionary\n",
    "for row_index, row_key in enumerate(Pattern):\n",
    "    row = Pattern[row_key]\n",
    "    \n",
    "    # Iterate through each stitch in the row\n",
    "    double_stitch_count = 0\n",
    "    for stitch_index, stitch_type in enumerate(row):\n",
    "        stitch_image = stitch_library[stitch_type]  \n",
    "             \n",
    "        # Adjust x_position based on stitch width\n",
    "        if stitch_type in {'front_kk', 'front_kp', 'front_pk', 'front_pp', 'back_kk', 'back_kp', 'back_pk', 'back_pp'}:\n",
    "            double_stitch_count += 1\n",
    "            x_position = x_margin + ((stitches_per_row - stitch_index - 1 - double_stitch_count) * round(0.93*stitch))\n",
    "        else:\n",
    "            x_position = x_margin + (stitches_per_row - stitch_index - 1 - double_stitch_count) * (round(0.93*stitch))\n",
    "        \n",
    "        y_position = y_margin + (num_of_rows - row_index - 1) * round(0.93*stitch)\n",
    "\n",
    "        background.paste(stitch_image, (x_position, y_position))\n",
    "        \n",
    "        font_type = ImageFont.truetype(\"times.ttf\", 60)\n",
    "        if row_index % 2 == 0:\n",
    "            l_text_position = (int(x_margin + x_filling) + 115, 20 + y_margin + (num_of_rows - row_index - 1) * round(0.93*stitch))\n",
    "            draw.text(l_text_position, f\"{row_index + 1}\", fill=(0, 0, 0), font=font_type)\n",
    "            r_arrow_position = (int(x_margin + x_filling) + 30, y_margin + int(stitch/2) - int(left_arrow.size[1]/2) + (num_of_rows - row_index - 1) * round(0.93*stitch))\n",
    "            background.paste(left_arrow, r_arrow_position)\n",
    "        elif row_index % 2 == 1:\n",
    "            l_arrow_position = (x_margin - 110, y_margin + int(stitch/2) - int(left_arrow.size[1]/2) + (num_of_rows - row_index - 1) * round(0.93*stitch))\n",
    "            background.paste(right_arrow, l_arrow_position)\n",
    "    \n",
    "    for n_stitch in range(0, stitches_per_row - 2):\n",
    "        draw.text((25 + x_margin + stitch + (stitches_per_row - 2 - n_stitch - 1)*(int(0.93*stitch)), y_margin - 75), f\"{n_stitch + 1}\", fill=(0, 0, 0), font=ImageFont.truetype(\"times.ttf\", 45))\n",
    "        \n",
    "report = str(input('Do you want to put a repeat section? (y/n) ' ))\n",
    "if report == 'y':\n",
    "    upper_position = input('Where? Type numbers of first and last column (e.g. 3, 12) ')\n",
    "    start_column, end_column = map(int, upper_position.split(', '))\n",
    "    upper_l_arrow_position_1 = (x_margin - int(upper_arrow.size[0]/2) - 4 + stitch + (stitches_per_row - start_column - 1) * round(0.93 * stitch), height - 100)\n",
    "    upper_l_arrow_position_2 = (x_margin - int(upper_arrow.size[0]/2) - 4 + stitch + (stitches_per_row - end_column - 1 - 1) * round(0.93 * stitch), height - 100)\n",
    "    \n",
    "    # Calculate the positions for the vertical lines\n",
    "    line_start_position_1 = (x_margin - 3 + stitch + (stitches_per_row - start_column - 1) * round(0.93 * stitch), y_margin)\n",
    "    line_end_position_1 = (x_margin - 3 + stitch + (stitches_per_row - start_column - 1) * round(0.93 * stitch), y_margin + y_filling - 5)\n",
    "    line_start_position_2 = (x_margin - 3 + stitch + (stitches_per_row - end_column - 1 - 1) * round(0.93 * stitch), y_margin)\n",
    "    line_end_position_2 = (x_margin - 3 + stitch + (stitches_per_row - end_column - 1 - 1) * round(0.93 * stitch), y_margin + y_filling - 5)\n",
    "\n",
    "    # Draw two vertical lines on the background image\n",
    "    draw = ImageDraw.Draw(background)\n",
    "    draw.line([line_start_position_1, line_end_position_1], fill=(0, 0, 0), width=15)\n",
    "    draw.line([line_start_position_2, line_end_position_2], fill=(0, 0, 0), width=15)\n",
    "\n",
    "    background.paste(upper_arrow, upper_l_arrow_position_1)\n",
    "    background.paste(upper_arrow, upper_l_arrow_position_2)\n",
    "else:\n",
    "    pass\n",
    "        \n",
    "background.save(chart_name + '.png')\n",
    "background.show()"
   ]
  },
  {
   "cell_type": "markdown",
   "metadata": {},
   "source": [
    "## **Colouring the chart** "
   ]
  },
  {
   "cell_type": "code",
   "execution_count": 39,
   "metadata": {},
   "outputs": [
    {
     "name": "stdout",
     "output_type": "stream",
     "text": [
     ]
    }
   ],
   "source": [
    "from PIL import Image\n",
    "\n",
    "img = Image.open(chart_name + '.png')\n",
    "# img = Image.open(chart_name + '_colour' + '.png')   # In case we want to provide another colour\n",
    "replacement_color = (240, 52, 194)\n",
    "\n",
    "img = img.convert('RGB')\n",
    "width, height = img.size\n",
    "\n",
    "file_ranges = 'ranges.txt'\n",
    "\n",
    "with open(file_ranges, 'r') as file:\n",
    "    for row_index, line in enumerate(file, start=1):\n",
    "        print(row_index)\n",
    "        \n",
    "        if not line.strip():\n",
    "            continue\n",
    "        color_ranges = [range(int(start), int(end) + 1) for start, end in (pair.split('-') for pair in line.strip().split(', '))]\n",
    "        for range_i in color_ranges:\n",
    "            for x in range((x_margin + stitch + round(0.93 * stitch) * (stitches_per_row - 2 - (range_i[-1]))), (x_margin + stitch + round(0.93 * stitch) * (stitches_per_row - 2 - (range_i[0] - 1)))):\n",
    "                for y in range(int(y_margin + (num_of_rows - row_index - 0) * round(0.93 * stitch)),\n",
    "                               int(y_margin + (num_of_rows - row_index + 1) * round(0.93 * stitch))):\n",
    "                    r, g, b = img.getpixel((x, y))\n",
    "                    if r >= 200 and g >= 200 and b >= 200:\n",
    "                        img.putpixel((x, y), replacement_color)\n",
    "# Save the modified image\n",
    "img.save(chart_name + '_colour' + '.png')\n"
   ]
  }
 ],
 "metadata": {
  "kernelspec": {
   "display_name": "Python 3",
   "language": "python",
   "name": "python3"
  },
  "language_info": {
   "codemirror_mode": {
    "name": "ipython",
    "version": 3
   },
   "file_extension": ".py",
   "mimetype": "text/x-python",
   "name": "python",
   "nbconvert_exporter": "python",
   "pygments_lexer": "ipython3",
   "version": "3.9.13"
  }
 },
 "nbformat": 4,
 "nbformat_minor": 2
}
